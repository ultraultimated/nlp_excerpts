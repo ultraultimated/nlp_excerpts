{
  "nbformat": 4,
  "nbformat_minor": 0,
  "metadata": {
    "accelerator": "GPU",
    "colab": {
      "name": "NLP Course - Week 3 Exercise Question.ipynb",
      "provenance": [],
      "toc_visible": true
    },
    "kernelspec": {
      "display_name": "Python 3",
      "name": "python3"
    }
  },
  "cells": [
    {
      "cell_type": "code",
      "metadata": {
        "id": "zX4Kg8DUTKWO",
        "colab_type": "code",
        "colab": {}
      },
      "source": [
        "#@title Licensed under the Apache License, Version 2.0 (the \"License\");\n",
        "# you may not use this file except in compliance with the License.\n",
        "# You may obtain a copy of the License at\n",
        "#\n",
        "# https://www.apache.org/licenses/LICENSE-2.0\n",
        "#\n",
        "# Unless required by applicable law or agreed to in writing, software\n",
        "# distributed under the License is distributed on an \"AS IS\" BASIS,\n",
        "# WITHOUT WARRANTIES OR CONDITIONS OF ANY KIND, either express or implied.\n",
        "# See the License for the specific language governing permissions and\n",
        "# limitations under the License."
      ],
      "execution_count": 0,
      "outputs": []
    },
    {
      "cell_type": "code",
      "metadata": {
        "colab_type": "code",
        "id": "hmA6EzkQJ5jt",
        "colab": {}
      },
      "source": [
        "import json\n",
        "import tensorflow as tf\n",
        "import csv\n",
        "import random\n",
        "import numpy as np\n",
        "\n",
        "from tensorflow.keras.preprocessing.text import Tokenizer\n",
        "from tensorflow.keras.preprocessing.sequence import pad_sequences\n",
        "from tensorflow.keras.utils import to_categorical\n",
        "from tensorflow.keras import regularizers\n",
        "\n",
        "\n",
        "embedding_dim = 100\n",
        "max_length = 16\n",
        "trunc_type='post'\n",
        "padding_type='post'\n",
        "oov_tok = \"<OOV>\"\n",
        "training_size=160000\n",
        "test_portion=.1\n",
        "\n",
        "corpus = []\n"
      ],
      "execution_count": 0,
      "outputs": []
    },
    {
      "cell_type": "code",
      "metadata": {
        "colab_type": "code",
        "id": "bM0l_dORKqE0",
        "outputId": "ea4131dc-1ae0-49b5-c0bc-26374f0b0190",
        "colab": {
          "base_uri": "https://localhost:8080/",
          "height": 207
        }
      },
      "source": [
        "# Note that I cleaned the Stanford dataset to remove LATIN1 encoding to make it easier for Python CSV reader\n",
        "# You can do that yourself with:\n",
        "# iconv -f LATIN1 -t UTF8 training.1600000.processed.noemoticon.csv -o training_cleaned.csv\n",
        "# I then hosted it on my site to make it easier to use in this notebook\n",
        "\n",
        "!wget --no-check-certificate \\\n",
        "    https://storage.googleapis.com/laurencemoroney-blog.appspot.com/training_cleaned.csv \\\n",
        "    -O /tmp/training_cleaned.csv\n",
        "\n",
        "num_sentences = 0\n",
        "\n",
        "with open(\"/tmp/training_cleaned.csv\") as csvfile:\n",
        "    reader = csv.reader(csvfile, delimiter=',')\n",
        "    for row in reader:\n",
        "      # Your Code here. Create list items where the first item is the text, found in row[5], and the second is the label. Note that the label is a '0' or a '4' in the text. When it's the former, make\n",
        "      # your label to be 0, otherwise 1. Keep a count of the number of sentences in num_sentences\n",
        "        list_item=[]\n",
        "        # YOUR CODE HERE\n",
        "        list_item.append(row[5])\n",
        "        this_label = row[0]\n",
        "        if this_label == '0':\n",
        "          list_item.append(0)\n",
        "        else:\n",
        "          list_item.append(1)\n",
        "        num_sentences = num_sentences + 1\n",
        "        corpus.append(list_item)\n"
      ],
      "execution_count": 3,
      "outputs": [
        {
          "output_type": "stream",
          "text": [
            "--2020-05-08 00:04:15--  https://storage.googleapis.com/laurencemoroney-blog.appspot.com/training_cleaned.csv\n",
            "Resolving storage.googleapis.com (storage.googleapis.com)... 172.217.5.208, 2607:f8b0:4007:802::2010\n",
            "Connecting to storage.googleapis.com (storage.googleapis.com)|172.217.5.208|:443... connected.\n",
            "HTTP request sent, awaiting response... 200 OK\n",
            "Length: 238942690 (228M) [application/octet-stream]\n",
            "Saving to: ‘/tmp/training_cleaned.csv’\n",
            "\n",
            "/tmp/training_clean 100%[===================>] 227.87M   138MB/s    in 1.6s    \n",
            "\n",
            "2020-05-08 00:04:17 (138 MB/s) - ‘/tmp/training_cleaned.csv’ saved [238942690/238942690]\n",
            "\n"
          ],
          "name": "stdout"
        }
      ]
    },
    {
      "cell_type": "code",
      "metadata": {
        "colab_type": "code",
        "id": "3kxblBUjEUX-",
        "outputId": "4e4b28e6-c283-4bad-e741-6606a0b4fb42",
        "colab": {
          "base_uri": "https://localhost:8080/",
          "height": 69
        }
      },
      "source": [
        "print(num_sentences)\n",
        "print(len(corpus))\n",
        "print(corpus[1])\n",
        "\n",
        "# Expected Output:\n",
        "# 1600000\n",
        "# 1600000\n",
        "# [\"is upset that he can't update his Facebook by texting it... and might cry as a result  School today also. Blah!\", 0]"
      ],
      "execution_count": 4,
      "outputs": [
        {
          "output_type": "stream",
          "text": [
            "1600000\n",
            "1600000\n",
            "[\"is upset that he can't update his Facebook by texting it... and might cry as a result  School today also. Blah!\", 0]\n"
          ],
          "name": "stdout"
        }
      ]
    },
    {
      "cell_type": "code",
      "metadata": {
        "colab_type": "code",
        "id": "ohOGz24lsNAD",
        "colab": {}
      },
      "source": [
        "sentences=[]\n",
        "labels=[]\n",
        "random.shuffle(corpus)\n",
        "for x in range(training_size):\n",
        "    sentences.append(corpus[x][0])\n",
        "    labels.append(corpus[x][1])\n",
        "\n",
        "\n",
        "tokenizer = Tokenizer()\n",
        "tokenizer.fit_on_texts(sentences)\n",
        "\n",
        "word_index = tokenizer.word_index\n",
        "vocab_size=len(word_index)\n",
        "\n",
        "sequences = tokenizer.texts_to_sequences(sentences)\n",
        "padded = pad_sequences(sequences=sequences, maxlen=max_length, padding=padding_type, truncating=trunc_type)\n",
        "\n",
        "split = int(test_portion * training_size)\n",
        "\n",
        "test_sequences = padded[0:split]\n",
        "training_sequences = padded[split:training_size]\n",
        "test_labels = labels[0:split]\n",
        "training_labels = labels[split:training_size]"
      ],
      "execution_count": 0,
      "outputs": []
    },
    {
      "cell_type": "code",
      "metadata": {
        "colab_type": "code",
        "id": "gIrtRem1En3N",
        "outputId": "59bbd5ce-31fd-46d6-d8ec-0e7f0a2916a1",
        "colab": {
          "base_uri": "https://localhost:8080/",
          "height": 51
        }
      },
      "source": [
        "print(vocab_size)\n",
        "print(word_index['i'])\n",
        "# Expected Output\n",
        "# 138858\n",
        "# 1"
      ],
      "execution_count": 6,
      "outputs": [
        {
          "output_type": "stream",
          "text": [
            "138836\n",
            "1\n"
          ],
          "name": "stdout"
        }
      ]
    },
    {
      "cell_type": "code",
      "metadata": {
        "colab_type": "code",
        "id": "C1zdgJkusRh0",
        "outputId": "ffe1381c-b320-4165-825f-f08ff496df4e",
        "colab": {
          "base_uri": "https://localhost:8080/",
          "height": 207
        }
      },
      "source": [
        "# Note this is the 100 dimension version of GloVe from Stanford\n",
        "# I unzipped and hosted it on my site to make this notebook easier\n",
        "!wget --no-check-certificate \\\n",
        "    https://storage.googleapis.com/laurencemoroney-blog.appspot.com/glove.6B.100d.txt \\\n",
        "    -O /tmp/glove.6B.100d.txt\n",
        "embeddings_index = {};\n",
        "with open('/tmp/glove.6B.100d.txt') as f:\n",
        "    for line in f:\n",
        "        values = line.split();\n",
        "        word = values[0];\n",
        "        coefs = np.asarray(values[1:], dtype='float32');\n",
        "        embeddings_index[word] = coefs;\n",
        "\n",
        "embeddings_matrix = np.zeros((vocab_size+1, embedding_dim));\n",
        "for word, i in word_index.items():\n",
        "    embedding_vector = embeddings_index.get(word);\n",
        "    if embedding_vector is not None:\n",
        "        embeddings_matrix[i] = embedding_vector;"
      ],
      "execution_count": 7,
      "outputs": [
        {
          "output_type": "stream",
          "text": [
            "--2020-05-08 00:04:30--  https://storage.googleapis.com/laurencemoroney-blog.appspot.com/glove.6B.100d.txt\n",
            "Resolving storage.googleapis.com (storage.googleapis.com)... 216.58.193.208, 2607:f8b0:4007:808::2010\n",
            "Connecting to storage.googleapis.com (storage.googleapis.com)|216.58.193.208|:443... connected.\n",
            "HTTP request sent, awaiting response... 200 OK\n",
            "Length: 347116733 (331M) [text/plain]\n",
            "Saving to: ‘/tmp/glove.6B.100d.txt’\n",
            "\n",
            "/tmp/glove.6B.100d. 100%[===================>] 331.04M   121MB/s    in 2.7s    \n",
            "\n",
            "2020-05-08 00:04:33 (121 MB/s) - ‘/tmp/glove.6B.100d.txt’ saved [347116733/347116733]\n",
            "\n"
          ],
          "name": "stdout"
        }
      ]
    },
    {
      "cell_type": "code",
      "metadata": {
        "colab_type": "code",
        "id": "71NLk_lpFLNt",
        "outputId": "28b22312-384e-4222-c2a7-46e8f98b9228",
        "colab": {
          "base_uri": "https://localhost:8080/",
          "height": 34
        }
      },
      "source": [
        "print(len(embeddings_matrix))\n",
        "# Expected Output\n",
        "# 138859"
      ],
      "execution_count": 8,
      "outputs": [
        {
          "output_type": "stream",
          "text": [
            "138837\n"
          ],
          "name": "stdout"
        }
      ]
    },
    {
      "cell_type": "code",
      "metadata": {
        "colab_type": "code",
        "id": "iKKvbuEBOGFz",
        "colab": {
          "base_uri": "https://localhost:8080/",
          "height": 1000
        },
        "outputId": "83b741dc-58ea-41dd-9582-0a818800246d"
      },
      "source": [
        "model = tf.keras.Sequential([\n",
        "    tf.keras.layers.Embedding(vocab_size+1, embedding_dim, input_length=max_length, weights=[embeddings_matrix], trainable=False),\n",
        "    # YOUR CODE HERE - experiment with combining different types, such as convolutions and LSTMs\n",
        "    tf.keras.layers.Bidirectional(tf.keras.layers.LSTM(64, return_sequences=True)),\n",
        "    tf.keras.layers.Bidirectional(tf.keras.layers.LSTM(32)),\n",
        "    tf.keras.layers.Dense(24, activation='relu'),\n",
        "    tf.keras.layers.Dense(1, activation='sigmoid')\n",
        "])\n",
        "model.compile(loss='binary_crossentropy',optimizer='adam',metrics=['accuracy'])\n",
        "model.summary()\n",
        "\n",
        "training_sequences = np.array(training_sequences)\n",
        "training_labels = np.array(training_labels)\n",
        "test_sequences = np.array(test_sequences)\n",
        "test_labels = np.array(test_labels)\n",
        "num_epochs = 50\n",
        "history = model.fit(training_sequences, training_labels, epochs=num_epochs, validation_data=(test_sequences, test_labels), verbose=2)\n",
        "\n",
        "print(\"Training Complete\")\n"
      ],
      "execution_count": 9,
      "outputs": [
        {
          "output_type": "stream",
          "text": [
            "Model: \"sequential\"\n",
            "_________________________________________________________________\n",
            "Layer (type)                 Output Shape              Param #   \n",
            "=================================================================\n",
            "embedding (Embedding)        (None, 16, 100)           13883700  \n",
            "_________________________________________________________________\n",
            "bidirectional (Bidirectional (None, 16, 128)           84480     \n",
            "_________________________________________________________________\n",
            "bidirectional_1 (Bidirection (None, 64)                41216     \n",
            "_________________________________________________________________\n",
            "dense (Dense)                (None, 24)                1560      \n",
            "_________________________________________________________________\n",
            "dense_1 (Dense)              (None, 1)                 25        \n",
            "=================================================================\n",
            "Total params: 14,010,981\n",
            "Trainable params: 127,281\n",
            "Non-trainable params: 13,883,700\n",
            "_________________________________________________________________\n",
            "Epoch 1/50\n",
            "4500/4500 - 36s - loss: 0.5337 - accuracy: 0.7287 - val_loss: 0.4964 - val_accuracy: 0.7563\n",
            "Epoch 2/50\n",
            "4500/4500 - 35s - loss: 0.4818 - accuracy: 0.7665 - val_loss: 0.4740 - val_accuracy: 0.7724\n",
            "Epoch 3/50\n",
            "4500/4500 - 35s - loss: 0.4556 - accuracy: 0.7832 - val_loss: 0.4679 - val_accuracy: 0.7751\n",
            "Epoch 4/50\n",
            "4500/4500 - 35s - loss: 0.4333 - accuracy: 0.7958 - val_loss: 0.4655 - val_accuracy: 0.7821\n",
            "Epoch 5/50\n",
            "4500/4500 - 36s - loss: 0.4111 - accuracy: 0.8097 - val_loss: 0.4651 - val_accuracy: 0.7813\n",
            "Epoch 6/50\n",
            "4500/4500 - 35s - loss: 0.3882 - accuracy: 0.8210 - val_loss: 0.4701 - val_accuracy: 0.7791\n",
            "Epoch 7/50\n",
            "4500/4500 - 35s - loss: 0.3632 - accuracy: 0.8348 - val_loss: 0.4803 - val_accuracy: 0.7756\n",
            "Epoch 8/50\n",
            "4500/4500 - 35s - loss: 0.3381 - accuracy: 0.8485 - val_loss: 0.5132 - val_accuracy: 0.7747\n",
            "Epoch 9/50\n",
            "4500/4500 - 35s - loss: 0.3121 - accuracy: 0.8611 - val_loss: 0.5594 - val_accuracy: 0.7707\n",
            "Epoch 10/50\n",
            "4500/4500 - 35s - loss: 0.2858 - accuracy: 0.8744 - val_loss: 0.5854 - val_accuracy: 0.7658\n",
            "Epoch 11/50\n",
            "4500/4500 - 35s - loss: 0.2634 - accuracy: 0.8847 - val_loss: 0.6271 - val_accuracy: 0.7619\n",
            "Epoch 12/50\n",
            "4500/4500 - 35s - loss: 0.2400 - accuracy: 0.8957 - val_loss: 0.6589 - val_accuracy: 0.7559\n",
            "Epoch 13/50\n",
            "4500/4500 - 35s - loss: 0.2195 - accuracy: 0.9066 - val_loss: 0.7123 - val_accuracy: 0.7586\n",
            "Epoch 14/50\n",
            "4500/4500 - 35s - loss: 0.2017 - accuracy: 0.9143 - val_loss: 0.7859 - val_accuracy: 0.7534\n",
            "Epoch 15/50\n",
            "4500/4500 - 34s - loss: 0.1850 - accuracy: 0.9216 - val_loss: 0.8363 - val_accuracy: 0.7505\n",
            "Epoch 16/50\n",
            "4500/4500 - 34s - loss: 0.1706 - accuracy: 0.9286 - val_loss: 0.8635 - val_accuracy: 0.7487\n",
            "Epoch 17/50\n",
            "4500/4500 - 35s - loss: 0.1579 - accuracy: 0.9340 - val_loss: 0.9865 - val_accuracy: 0.7526\n",
            "Epoch 18/50\n",
            "4500/4500 - 34s - loss: 0.1484 - accuracy: 0.9388 - val_loss: 0.9620 - val_accuracy: 0.7503\n",
            "Epoch 19/50\n",
            "4500/4500 - 34s - loss: 0.1385 - accuracy: 0.9424 - val_loss: 1.0363 - val_accuracy: 0.7481\n",
            "Epoch 20/50\n",
            "4500/4500 - 34s - loss: 0.1301 - accuracy: 0.9468 - val_loss: 1.0849 - val_accuracy: 0.7474\n",
            "Epoch 21/50\n",
            "4500/4500 - 34s - loss: 0.1226 - accuracy: 0.9500 - val_loss: 1.1189 - val_accuracy: 0.7420\n",
            "Epoch 22/50\n",
            "4500/4500 - 34s - loss: 0.1157 - accuracy: 0.9536 - val_loss: 1.1905 - val_accuracy: 0.7461\n",
            "Epoch 23/50\n",
            "4500/4500 - 35s - loss: 0.1116 - accuracy: 0.9554 - val_loss: 1.2078 - val_accuracy: 0.7442\n",
            "Epoch 24/50\n",
            "4500/4500 - 34s - loss: 0.1040 - accuracy: 0.9582 - val_loss: 1.2911 - val_accuracy: 0.7438\n",
            "Epoch 25/50\n",
            "4500/4500 - 34s - loss: 0.0998 - accuracy: 0.9604 - val_loss: 1.2984 - val_accuracy: 0.7450\n",
            "Epoch 26/50\n",
            "4500/4500 - 34s - loss: 0.0968 - accuracy: 0.9615 - val_loss: 1.3711 - val_accuracy: 0.7456\n",
            "Epoch 27/50\n",
            "4500/4500 - 34s - loss: 0.0933 - accuracy: 0.9629 - val_loss: 1.4446 - val_accuracy: 0.7507\n",
            "Epoch 28/50\n",
            "4500/4500 - 34s - loss: 0.0902 - accuracy: 0.9644 - val_loss: 1.3747 - val_accuracy: 0.7438\n",
            "Epoch 29/50\n",
            "4500/4500 - 34s - loss: 0.0871 - accuracy: 0.9656 - val_loss: 1.4337 - val_accuracy: 0.7421\n",
            "Epoch 30/50\n",
            "4500/4500 - 34s - loss: 0.0840 - accuracy: 0.9674 - val_loss: 1.4781 - val_accuracy: 0.7424\n",
            "Epoch 31/50\n",
            "4500/4500 - 34s - loss: 0.0828 - accuracy: 0.9671 - val_loss: 1.4373 - val_accuracy: 0.7395\n",
            "Epoch 32/50\n",
            "4500/4500 - 35s - loss: 0.0791 - accuracy: 0.9687 - val_loss: 1.4656 - val_accuracy: 0.7394\n",
            "Epoch 33/50\n",
            "4500/4500 - 34s - loss: 0.0782 - accuracy: 0.9695 - val_loss: 1.4850 - val_accuracy: 0.7438\n",
            "Epoch 34/50\n",
            "4500/4500 - 34s - loss: 0.0757 - accuracy: 0.9708 - val_loss: 1.4878 - val_accuracy: 0.7425\n",
            "Epoch 35/50\n",
            "4500/4500 - 34s - loss: 0.0746 - accuracy: 0.9711 - val_loss: 1.4773 - val_accuracy: 0.7442\n",
            "Epoch 36/50\n",
            "4500/4500 - 34s - loss: 0.0713 - accuracy: 0.9722 - val_loss: 1.5089 - val_accuracy: 0.7414\n",
            "Epoch 37/50\n",
            "4500/4500 - 34s - loss: 0.0715 - accuracy: 0.9723 - val_loss: 1.5889 - val_accuracy: 0.7453\n",
            "Epoch 38/50\n",
            "4500/4500 - 34s - loss: 0.0673 - accuracy: 0.9742 - val_loss: 1.5567 - val_accuracy: 0.7437\n",
            "Epoch 39/50\n",
            "4500/4500 - 34s - loss: 0.0686 - accuracy: 0.9740 - val_loss: 1.6043 - val_accuracy: 0.7378\n",
            "Epoch 40/50\n",
            "4500/4500 - 34s - loss: 0.0677 - accuracy: 0.9740 - val_loss: 1.5673 - val_accuracy: 0.7379\n",
            "Epoch 41/50\n",
            "4500/4500 - 35s - loss: 0.0661 - accuracy: 0.9745 - val_loss: 1.6050 - val_accuracy: 0.7467\n",
            "Epoch 42/50\n",
            "4500/4500 - 34s - loss: 0.0634 - accuracy: 0.9760 - val_loss: 1.6867 - val_accuracy: 0.7420\n",
            "Epoch 43/50\n",
            "4500/4500 - 34s - loss: 0.0649 - accuracy: 0.9751 - val_loss: 1.5997 - val_accuracy: 0.7410\n",
            "Epoch 44/50\n",
            "4500/4500 - 34s - loss: 0.0613 - accuracy: 0.9766 - val_loss: 1.6351 - val_accuracy: 0.7444\n",
            "Epoch 45/50\n",
            "4500/4500 - 34s - loss: 0.0631 - accuracy: 0.9758 - val_loss: 1.6397 - val_accuracy: 0.7434\n",
            "Epoch 46/50\n",
            "4500/4500 - 34s - loss: 0.0609 - accuracy: 0.9765 - val_loss: 1.6047 - val_accuracy: 0.7382\n",
            "Epoch 47/50\n",
            "4500/4500 - 34s - loss: 0.0615 - accuracy: 0.9765 - val_loss: 1.5953 - val_accuracy: 0.7442\n",
            "Epoch 48/50\n",
            "4500/4500 - 34s - loss: 0.0587 - accuracy: 0.9775 - val_loss: 1.6178 - val_accuracy: 0.7427\n",
            "Epoch 49/50\n",
            "4500/4500 - 34s - loss: 0.0599 - accuracy: 0.9771 - val_loss: 1.6401 - val_accuracy: 0.7424\n",
            "Epoch 50/50\n",
            "4500/4500 - 34s - loss: 0.0588 - accuracy: 0.9779 - val_loss: 1.6287 - val_accuracy: 0.7460\n",
            "Training Complete\n"
          ],
          "name": "stdout"
        }
      ]
    },
    {
      "cell_type": "code",
      "metadata": {
        "colab_type": "code",
        "id": "qxju4ItJKO8F",
        "colab": {
          "base_uri": "https://localhost:8080/",
          "height": 607
        },
        "outputId": "0db18fc4-faa0-46b4-e1db-a0dcae5d990d"
      },
      "source": [
        "import matplotlib.image  as mpimg\n",
        "import matplotlib.pyplot as plt\n",
        "\n",
        "#-----------------------------------------------------------\n",
        "# Retrieve a list of list results on training and test data\n",
        "# sets for each training epoch\n",
        "#-----------------------------------------------------------\n",
        "acc=history.history['accuracy']\n",
        "val_acc=history.history['val_accuracy']\n",
        "loss=history.history['loss']\n",
        "val_loss=history.history['val_loss']\n",
        "\n",
        "epochs=range(len(acc)) # Get number of epochs\n",
        "\n",
        "#------------------------------------------------\n",
        "# Plot training and validation accuracy per epoch\n",
        "#------------------------------------------------\n",
        "plt.plot(epochs, acc, 'r')\n",
        "plt.plot(epochs, val_acc, 'b')\n",
        "plt.title('Training and validation accuracy')\n",
        "plt.xlabel(\"Epochs\")\n",
        "plt.ylabel(\"Accuracy\")\n",
        "plt.legend([\"Accuracy\", \"Validation Accuracy\"])\n",
        "\n",
        "plt.figure()\n",
        "\n",
        "#------------------------------------------------\n",
        "# Plot training and validation loss per epoch\n",
        "#------------------------------------------------\n",
        "plt.plot(epochs, loss, 'r')\n",
        "plt.plot(epochs, val_loss, 'b')\n",
        "plt.title('Training and validation loss')\n",
        "plt.xlabel(\"Epochs\")\n",
        "plt.ylabel(\"Loss\")\n",
        "plt.legend([\"Loss\", \"Validation Loss\"])\n",
        "\n",
        "plt.figure()\n",
        "\n",
        "\n",
        "# Expected Output\n",
        "# A chart where the validation loss does not increase sharply!"
      ],
      "execution_count": 10,
      "outputs": [
        {
          "output_type": "execute_result",
          "data": {
            "text/plain": [
              "<Figure size 432x288 with 0 Axes>"
            ]
          },
          "metadata": {
            "tags": []
          },
          "execution_count": 10
        },
        {
          "output_type": "display_data",
          "data": {
            "image/png": "[encoded data removed]",
            "text/plain": [
              "<Figure size 432x288 with 1 Axes>"
            ]
          },
          "metadata": {
            "tags": [],
            "needs_background": "light"
          }
        },
        {
          "output_type": "display_data",
          "data": {
            "image/png": "[encoded data removed]",
            "text/plain": [
              "<Figure size 432x288 with 1 Axes>"
            ]
          },
          "metadata": {
            "tags": [],
            "needs_background": "light"
          }
        },
        {
          "output_type": "display_data",
          "data": {
            "text/plain": [
              "<Figure size 432x288 with 0 Axes>"
            ]
          },
          "metadata": {
            "tags": []
          }
        }
      ]
    },
    {
      "cell_type": "code",
      "metadata": {
        "id": "sITghPsGjy9l",
        "colab_type": "code",
        "colab": {}
      },
      "source": [
        ""
      ],
      "execution_count": 0,
      "outputs": []
    }
  ]
}